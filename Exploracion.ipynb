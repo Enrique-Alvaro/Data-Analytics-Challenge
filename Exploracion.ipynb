{
 "cells": [
  {
   "cell_type": "code",
   "execution_count": 44,
   "id": "23aa2657-93ce-4fe8-ab20-05e8b4140501",
   "metadata": {},
   "outputs": [],
   "source": [
    "import requests\n",
    "from datetime import datetime\n",
    "from pathlib import Path\n",
    "import pandas as pd"
   ]
  },
  {
   "cell_type": "code",
   "execution_count": 45,
   "id": "0db067bf-a967-44a1-b3c4-4854944dd41f",
   "metadata": {},
   "outputs": [],
   "source": [
    "BASE_FILE_DIR = Path('/tmp')\n",
    "file_path_crib = '{category}/{year}-{month:02d}/{category}-{day:02d}-{month:02d}-{year}.csv'"
   ]
  },
  {
   "cell_type": "code",
   "execution_count": 65,
   "id": "04495130-2c10-48f7-b392-abfae5741eae",
   "metadata": {},
   "outputs": [],
   "source": [
    "def crear_ruta(parent,nombre):\n",
    "    now = datetime.now()\n",
    "    ruta = file_path_crib.format(category = nombre, year = now.year, month = now.month , day= now.day)\n",
    "    return parent / ruta\n",
    "\n",
    "def crear_carpeta(ruta):\n",
    "    m_path = BASE_FILE_DIR / ruta\n",
    "    m_path.parent.mkdir(parents= True, exist_ok = True)\n",
    "    \n",
    "    \n",
    "def leer_url(url,ruta):\n",
    "    r = requests.get(url)\n",
    "    r.encoding = 'utf-8'\n",
    "    with open(ruta,'w') as f_out:\n",
    "        f_out.write(r.text)"
   ]
  },
  {
   "cell_type": "code",
   "execution_count": 48,
   "id": "883296a1-fce8-497a-8958-4595069483de",
   "metadata": {},
   "outputs": [],
   "source": [
    "origen = [\n",
    "    {\n",
    "        'name' : 'museo',\n",
    "        'url' : 'https://datos.cultura.gob.ar/dataset/37305de4-3cce-4d4b-9d9a-fec3ca61d09f/resource/4207def0-2ff7-41d5-9095-d42ae8207a5d/download/museo.csv'\n",
    "    },\n",
    "    {\n",
    "        'name' : 'cines',\n",
    "        'url' : 'https://datos.cultura.gob.ar/dataset/37305de4-3cce-4d4b-9d9a-fec3ca61d09f/resource/392ce1a8-ef11-4776-b280-6f1c7fae16ae/download/cine.csv'\n",
    "    },\n",
    "    {\n",
    "        'name' :'bibliotecas_populares',\n",
    "        'url' : 'https://datos.cultura.gob.ar/dataset/37305de4-3cce-4d4b-9d9a-fec3ca61d09f/resource/01c6c048-dbeb-44e0-8efa-6944f73715d7/download/biblioteca_popular.csv'\n",
    "    },\n",
    "]"
   ]
  },
  {
   "cell_type": "markdown",
   "id": "c87ecd06-94d4-4ea1-bce9-f30713b8b108",
   "metadata": {},
   "source": [
    "## Columnas para definitivas"
   ]
  },
  {
   "cell_type": "code",
   "execution_count": 49,
   "id": "e2e0f5e9-7329-4d89-9662-e10d6f079a63",
   "metadata": {},
   "outputs": [],
   "source": [
    "columns_def = ['cod_localidad',\n",
    "               'id_provincia',\n",
    "               'id_departamento',\n",
    "               'categoria','provincia',\n",
    "               'localidad',\n",
    "               'nombre',\n",
    "               'domicilio',\n",
    "               'codigo postal',\n",
    "               'numero de telefono',\n",
    "                'mail',\n",
    "               'web'\n",
    "]"
   ]
  },
  {
   "cell_type": "markdown",
   "id": "308d9023-45a3-4fbc-8f98-07f416c66ccb",
   "metadata": {},
   "source": [
    "## Museos"
   ]
  },
  {
   "cell_type": "code",
   "execution_count": 70,
   "id": "52b74110-d3e3-46e9-a1bd-cdbaf27977ea",
   "metadata": {},
   "outputs": [],
   "source": [
    "museo = origen[0]\n",
    "\n",
    "ruta_museo =crear_ruta(BASE_FILE_DIR, museo['name'])\n",
    "\n",
    "crear_carpeta(ruta_museo)\n",
    "\n",
    "leer_url(museo['url'],ruta_museo)"
   ]
  },
  {
   "cell_type": "code",
   "execution_count": 9,
   "id": "dc6be5c2-06d8-49bd-a5cf-c096720360ba",
   "metadata": {},
   "outputs": [],
   "source": [
    "df_museos = pd.read_csv(ruta_museo,encoding='latin-1')"
   ]
  },
  {
   "cell_type": "code",
   "execution_count": 10,
   "id": "87316f7a-d6c2-4e11-85dc-68b198d5ac22",
   "metadata": {},
   "outputs": [],
   "source": [
    "rename_columns = {\n",
    "    'Cod_Loc' : 'cod_localidad',\n",
    "    'IdProvincia' : 'id_provincia',\n",
    "    'IdDepartamento' : 'id_departamento',\n",
    "    'direccion' : 'domicilio',\n",
    "    'CP' : 'codigo postal',\n",
    "    'telefono' : 'numero de telefono',\n",
    "    'Mail' : 'mail',\n",
    "    'Web' : 'web'\n",
    "}\n",
    "\n",
    "\n",
    "df_museos.rename(columns = rename_columns, inplace = True)\n",
    "df_museos = df_museos[columns_def]"
   ]
  },
  {
   "cell_type": "markdown",
   "id": "af2ad2a5-75e4-4ad1-bc3f-15e47e07f3f4",
   "metadata": {},
   "source": [
    "## Cines"
   ]
  },
  {
   "cell_type": "code",
   "execution_count": 11,
   "id": "1d5a967e-9a20-485d-870b-68c45bc56a91",
   "metadata": {},
   "outputs": [],
   "source": [
    "category_dict = categories [1]\n",
    "\n",
    "r = requests.get(category_dict['url'])"
   ]
  },
  {
   "cell_type": "code",
   "execution_count": 12,
   "id": "f0e4b3d8-b980-4fec-9c84-9d549d9879c3",
   "metadata": {},
   "outputs": [],
   "source": [
    "now = datetime.now()\n",
    "file_path = file_path_crib.format(category = category_dict['name'], year = now.year, month = now.month , day= now.day)\n",
    "\n",
    "m_path = BASE_FILE_DIR / file_path\n",
    "m_path.parent.mkdir(parents= True, exist_ok = True)\n",
    "\n",
    "r.encoding = 'utf-8'\n",
    "\n",
    "with open(m_path,'w') as f_out:\n",
    "    f_out.write(r.text)"
   ]
  },
  {
   "cell_type": "code",
   "execution_count": 13,
   "id": "d29525b2-89bc-465b-836d-bd074bf39630",
   "metadata": {},
   "outputs": [],
   "source": [
    "df_cines = pd.read_csv(m_path,encoding='latin-1')\n",
    "df_cines.rename(columns = rename_columns, inplace = True)"
   ]
  },
  {
   "cell_type": "code",
   "execution_count": 14,
   "id": "1d2564f9-d7e3-4860-acd6-63cb43c51c56",
   "metadata": {},
   "outputs": [
    {
     "data": {
      "text/plain": [
       "Index(['cod_localidad', 'id_provincia', 'id_departamento', 'Observaciones',\n",
       "       'Categoría', 'Provincia', 'Departamento', 'Localidad', 'Nombre',\n",
       "       'Dirección', 'Piso', 'codigo postal', 'cod_area', 'Teléfono', 'mail',\n",
       "       'web', 'Información adicional', 'Latitud', 'Longitud',\n",
       "       'TipoLatitudLongitud', 'Fuente', 'tipo_gestion', 'Pantallas', 'Butacas',\n",
       "       'espacio_INCAA', 'año_actualizacion'],\n",
       "      dtype='object')"
      ]
     },
     "execution_count": 14,
     "metadata": {},
     "output_type": "execute_result"
    }
   ],
   "source": [
    "df_cines.columns"
   ]
  },
  {
   "cell_type": "code",
   "execution_count": 18,
   "id": "44299a41-6396-490a-9ba0-2628bae6ba09",
   "metadata": {},
   "outputs": [],
   "source": [
    "rename_columns = {\n",
    "    'cod_localidad' : 'cod_localidad',\n",
    "    'id_provincia' : 'id_provincia',\n",
    "    'id_departamento' : 'id_departamento',\n",
    "    'provincia' : 'provincia',\n",
    "    'Dirección' : 'domicilio',\n",
    "    'Teléfono' : 'numero de telefono',\n",
    "    'Nombre' : 'nombre',\n",
    "    'Categoría' : 'categoria',\n",
    "    'Provincia' : 'provincia',\n",
    "    'Localidad' : 'localidad'\n",
    "}\n",
    "df_cines.rename(columns = rename_columns, inplace = True)\n",
    "df_cines = df_cines[columns_def]"
   ]
  },
  {
   "cell_type": "markdown",
   "id": "9ce3424e-7b8d-45e1-930c-c08d93e1187b",
   "metadata": {},
   "source": [
    "## Bibliotecas"
   ]
  },
  {
   "cell_type": "code",
   "execution_count": 19,
   "id": "53b7978a-a4b7-4681-bf56-4c2be5fffec8",
   "metadata": {},
   "outputs": [],
   "source": [
    "category_dict = categories [2]\n",
    "\n",
    "r = requests.get(category_dict['url'])"
   ]
  },
  {
   "cell_type": "code",
   "execution_count": 21,
   "id": "0040729b-5a3a-45e1-9879-e83fe6282ce1",
   "metadata": {},
   "outputs": [],
   "source": [
    "now = datetime.now()\n",
    "file_path = file_path_crib.format(category = category_dict['name'], year = now.year, month = now.month , day= now.day)\n",
    "\n",
    "m_path = BASE_FILE_DIR / file_path\n",
    "m_path.parent.mkdir(parents= True, exist_ok = True)\n",
    "\n",
    "r.encoding = 'utf-8'\n",
    "\n",
    "with open(m_path,'w') as f_out:\n",
    "    f_out.write(r.text)"
   ]
  },
  {
   "cell_type": "code",
   "execution_count": 22,
   "id": "fa1931a5-98ec-49f8-a7d1-48b389a0adcd",
   "metadata": {},
   "outputs": [],
   "source": [
    "df_biblio = pd.read_csv(m_path,encoding='latin-1')"
   ]
  },
  {
   "cell_type": "code",
   "execution_count": 23,
   "id": "fbd9ebbc-4bd7-4d5e-861e-e4ae0887fddd",
   "metadata": {},
   "outputs": [],
   "source": [
    "rename_columns = {\n",
    "    'Cod_Loc' : 'cod_localidad',\n",
    "    'IdProvincia' : 'id_provincia',\n",
    "    'IdDepartamento' : 'id_departamento',\n",
    "    'Categoría' : 'categoria',\n",
    "    'Provincia' : 'provincia',\n",
    "    'Localidad' : 'localidad',\n",
    "    'Nombre' : 'nombre',\n",
    "    'Domicilio' : 'domicilio',\n",
    "    'CP' : 'codigo postal',\n",
    "    'Teléfono' : 'numero de telefono',\n",
    "    'Mail' : 'mail',\n",
    "    'Web' : 'web'\n",
    "}\n",
    "\n",
    "df_biblio.rename(columns = rename_columns, inplace = True)\n",
    "df_biblio = df_biblio[columns_def]"
   ]
  },
  {
   "cell_type": "markdown",
   "id": "b307487b-12ea-45d2-aebf-0c0c79222448",
   "metadata": {},
   "source": [
    "## Cantidad de registros totales por categoria"
   ]
  },
  {
   "cell_type": "code",
   "execution_count": 25,
   "id": "c7708b37-52b5-48c0-b6c3-c340d4026820",
   "metadata": {},
   "outputs": [],
   "source": [
    "dfs = {'a' : df_museos , 'b': df_cines, 'c' : df_biblio}\n",
    "df = pd.concat(dfs, axis =0)"
   ]
  },
  {
   "cell_type": "code",
   "execution_count": 32,
   "id": "36aeddc6-64bd-457f-9fcb-33b1e8bb2ec4",
   "metadata": {},
   "outputs": [
    {
     "data": {
      "text/html": [
       "<div>\n",
       "<style scoped>\n",
       "    .dataframe tbody tr th:only-of-type {\n",
       "        vertical-align: middle;\n",
       "    }\n",
       "\n",
       "    .dataframe tbody tr th {\n",
       "        vertical-align: top;\n",
       "    }\n",
       "\n",
       "    .dataframe thead th {\n",
       "        text-align: right;\n",
       "    }\n",
       "</style>\n",
       "<table border=\"1\" class=\"dataframe\">\n",
       "  <thead>\n",
       "    <tr style=\"text-align: right;\">\n",
       "      <th></th>\n",
       "      <th>categoria</th>\n",
       "      <th>size</th>\n",
       "    </tr>\n",
       "  </thead>\n",
       "  <tbody>\n",
       "    <tr>\n",
       "      <th>0</th>\n",
       "      <td>Bibliotecas Populares</td>\n",
       "      <td>2017</td>\n",
       "    </tr>\n",
       "    <tr>\n",
       "      <th>1</th>\n",
       "      <td>Espacios de Exhibición Patrimonial</td>\n",
       "      <td>1182</td>\n",
       "    </tr>\n",
       "    <tr>\n",
       "      <th>2</th>\n",
       "      <td>Salas de cine</td>\n",
       "      <td>329</td>\n",
       "    </tr>\n",
       "  </tbody>\n",
       "</table>\n",
       "</div>"
      ],
      "text/plain": [
       "                            categoria  size\n",
       "0               Bibliotecas Populares  2017\n",
       "1  Espacios de Exhibición Patrimonial  1182\n",
       "2                       Salas de cine   329"
      ]
     },
     "execution_count": 32,
     "metadata": {},
     "output_type": "execute_result"
    }
   ],
   "source": [
    "df.groupby('categoria',as_index = False).size()"
   ]
  },
  {
   "cell_type": "markdown",
   "id": "69f63fc2-7e6f-4c30-817e-6302d6b90dad",
   "metadata": {},
   "source": [
    "## Cantidad de registros totales por provincia y categoria"
   ]
  },
  {
   "cell_type": "code",
   "execution_count": 34,
   "id": "3b38f037-5690-4560-a9e6-c3c2b0862be5",
   "metadata": {},
   "outputs": [
    {
     "data": {
      "text/html": [
       "<div>\n",
       "<style scoped>\n",
       "    .dataframe tbody tr th:only-of-type {\n",
       "        vertical-align: middle;\n",
       "    }\n",
       "\n",
       "    .dataframe tbody tr th {\n",
       "        vertical-align: top;\n",
       "    }\n",
       "\n",
       "    .dataframe thead th {\n",
       "        text-align: right;\n",
       "    }\n",
       "</style>\n",
       "<table border=\"1\" class=\"dataframe\">\n",
       "  <thead>\n",
       "    <tr style=\"text-align: right;\">\n",
       "      <th></th>\n",
       "      <th>provincia</th>\n",
       "      <th>categoria</th>\n",
       "      <th>size</th>\n",
       "    </tr>\n",
       "  </thead>\n",
       "  <tbody>\n",
       "    <tr>\n",
       "      <th>0</th>\n",
       "      <td>Buenos Aires</td>\n",
       "      <td>Bibliotecas Populares</td>\n",
       "      <td>543</td>\n",
       "    </tr>\n",
       "    <tr>\n",
       "      <th>1</th>\n",
       "      <td>Buenos Aires</td>\n",
       "      <td>Espacios de Exhibición Patrimonial</td>\n",
       "      <td>152</td>\n",
       "    </tr>\n",
       "    <tr>\n",
       "      <th>2</th>\n",
       "      <td>Buenos Aires</td>\n",
       "      <td>Salas de cine</td>\n",
       "      <td>106</td>\n",
       "    </tr>\n",
       "    <tr>\n",
       "      <th>3</th>\n",
       "      <td>Catamarca</td>\n",
       "      <td>Bibliotecas Populares</td>\n",
       "      <td>38</td>\n",
       "    </tr>\n",
       "    <tr>\n",
       "      <th>4</th>\n",
       "      <td>Catamarca</td>\n",
       "      <td>Espacios de Exhibición Patrimonial</td>\n",
       "      <td>32</td>\n",
       "    </tr>\n",
       "    <tr>\n",
       "      <th>...</th>\n",
       "      <td>...</td>\n",
       "      <td>...</td>\n",
       "      <td>...</td>\n",
       "    </tr>\n",
       "    <tr>\n",
       "      <th>68</th>\n",
       "      <td>Tierra del Fuego</td>\n",
       "      <td>Salas de cine</td>\n",
       "      <td>3</td>\n",
       "    </tr>\n",
       "    <tr>\n",
       "      <th>69</th>\n",
       "      <td>Tierra del Fuego, Antártida e Islas del Atlánt...</td>\n",
       "      <td>Espacios de Exhibición Patrimonial</td>\n",
       "      <td>14</td>\n",
       "    </tr>\n",
       "    <tr>\n",
       "      <th>70</th>\n",
       "      <td>Tucumán</td>\n",
       "      <td>Bibliotecas Populares</td>\n",
       "      <td>37</td>\n",
       "    </tr>\n",
       "    <tr>\n",
       "      <th>71</th>\n",
       "      <td>Tucumán</td>\n",
       "      <td>Espacios de Exhibición Patrimonial</td>\n",
       "      <td>26</td>\n",
       "    </tr>\n",
       "    <tr>\n",
       "      <th>72</th>\n",
       "      <td>Tucumán</td>\n",
       "      <td>Salas de cine</td>\n",
       "      <td>8</td>\n",
       "    </tr>\n",
       "  </tbody>\n",
       "</table>\n",
       "<p>73 rows × 3 columns</p>\n",
       "</div>"
      ],
      "text/plain": [
       "                                            provincia  \\\n",
       "0                                        Buenos Aires   \n",
       "1                                        Buenos Aires   \n",
       "2                                        Buenos Aires   \n",
       "3                                           Catamarca   \n",
       "4                                           Catamarca   \n",
       "..                                                ...   \n",
       "68                                   Tierra del Fuego   \n",
       "69  Tierra del Fuego, Antártida e Islas del Atlánt...   \n",
       "70                                            Tucumán   \n",
       "71                                            Tucumán   \n",
       "72                                            Tucumán   \n",
       "\n",
       "                             categoria  size  \n",
       "0                Bibliotecas Populares   543  \n",
       "1   Espacios de Exhibición Patrimonial   152  \n",
       "2                        Salas de cine   106  \n",
       "3                Bibliotecas Populares    38  \n",
       "4   Espacios de Exhibición Patrimonial    32  \n",
       "..                                 ...   ...  \n",
       "68                       Salas de cine     3  \n",
       "69  Espacios de Exhibición Patrimonial    14  \n",
       "70               Bibliotecas Populares    37  \n",
       "71  Espacios de Exhibición Patrimonial    26  \n",
       "72                       Salas de cine     8  \n",
       "\n",
       "[73 rows x 3 columns]"
      ]
     },
     "execution_count": 34,
     "metadata": {},
     "output_type": "execute_result"
    }
   ],
   "source": [
    "df.groupby(['provincia','categoria'],as_index = False).size()"
   ]
  },
  {
   "cell_type": "code",
   "execution_count": 38,
   "id": "73ec1c7b-0f90-46ac-8a61-71e797c0d901",
   "metadata": {},
   "outputs": [],
   "source": [
    "df_cines = pd.read_csv(m_path,encoding='latin-1')"
   ]
  },
  {
   "cell_type": "code",
   "execution_count": null,
   "id": "e222825f-0e3a-4821-809b-932fc209c4f8",
   "metadata": {},
   "outputs": [],
   "source": []
  },
  {
   "cell_type": "code",
   "execution_count": 39,
   "id": "9ce52aff-236a-4645-9ede-52e571d9d823",
   "metadata": {},
   "outputs": [
    {
     "data": {
      "text/plain": [
       "Index(['Cod_Loc', 'IdProvincia', 'IdDepartamento', 'Observacion', 'Categoría',\n",
       "       'Subcategoria', 'Provincia', 'Departamento', 'Localidad', 'Nombre',\n",
       "       'Domicilio', 'Piso', 'CP', 'Cod_tel', 'Teléfono', 'Mail', 'Web',\n",
       "       'Información adicional', 'Latitud', 'Longitud', 'TipoLatitudLongitud',\n",
       "       'Fuente', 'Tipo_gestion', 'año_inicio', 'Año_actualizacion'],\n",
       "      dtype='object')"
      ]
     },
     "execution_count": 39,
     "metadata": {},
     "output_type": "execute_result"
    }
   ],
   "source": [
    "df_cines.columns"
   ]
  },
  {
   "cell_type": "code",
   "execution_count": 42,
   "id": "b68c4eb3-35bb-4c52-a151-fcd3b4ef1cf0",
   "metadata": {},
   "outputs": [
    {
     "data": {
      "text/html": [
       "<div>\n",
       "<style scoped>\n",
       "    .dataframe tbody tr th:only-of-type {\n",
       "        vertical-align: middle;\n",
       "    }\n",
       "\n",
       "    .dataframe tbody tr th {\n",
       "        vertical-align: top;\n",
       "    }\n",
       "\n",
       "    .dataframe thead th {\n",
       "        text-align: right;\n",
       "    }\n",
       "</style>\n",
       "<table border=\"1\" class=\"dataframe\">\n",
       "  <thead>\n",
       "    <tr style=\"text-align: right;\">\n",
       "      <th></th>\n",
       "      <th>Cod_Loc</th>\n",
       "      <th>IdProvincia</th>\n",
       "      <th>IdDepartamento</th>\n",
       "      <th>Observacion</th>\n",
       "      <th>Categoría</th>\n",
       "      <th>Subcategoria</th>\n",
       "      <th>Provincia</th>\n",
       "      <th>Departamento</th>\n",
       "      <th>Localidad</th>\n",
       "      <th>Nombre</th>\n",
       "      <th>Domicilio</th>\n",
       "      <th>Piso</th>\n",
       "      <th>CP</th>\n",
       "      <th>Cod_tel</th>\n",
       "      <th>Teléfono</th>\n",
       "      <th>Mail</th>\n",
       "      <th>Web</th>\n",
       "      <th>Información adicional</th>\n",
       "      <th>Latitud</th>\n",
       "      <th>Longitud</th>\n",
       "      <th>TipoLatitudLongitud</th>\n",
       "      <th>Fuente</th>\n",
       "      <th>Tipo_gestion</th>\n",
       "      <th>año_inicio</th>\n",
       "      <th>Año_actualizacion</th>\n",
       "    </tr>\n",
       "  </thead>\n",
       "  <tbody>\n",
       "    <tr>\n",
       "      <th>0</th>\n",
       "      <td>70049060</td>\n",
       "      <td>70</td>\n",
       "      <td>70049</td>\n",
       "      <td>NaN</td>\n",
       "      <td>Bibliotecas Populares</td>\n",
       "      <td>NaN</td>\n",
       "      <td>San Juan</td>\n",
       "      <td>Iglesia</td>\n",
       "      <td>Rodeo</td>\n",
       "      <td>Biblioteca Popular Juan P. Garramuno</td>\n",
       "      <td>Santo Domingo</td>\n",
       "      <td>NaN</td>\n",
       "      <td>5465</td>\n",
       "      <td>s/d</td>\n",
       "      <td>s/d</td>\n",
       "      <td>s/d</td>\n",
       "      <td>NaN</td>\n",
       "      <td>NaN</td>\n",
       "      <td>-30.209250</td>\n",
       "      <td>-69.130117</td>\n",
       "      <td>Localización precisa</td>\n",
       "      <td>CONABIP</td>\n",
       "      <td>Comunitaria</td>\n",
       "      <td>1930.0</td>\n",
       "      <td>2018</td>\n",
       "    </tr>\n",
       "    <tr>\n",
       "      <th>1</th>\n",
       "      <td>2000010</td>\n",
       "      <td>2</td>\n",
       "      <td>2000</td>\n",
       "      <td>NaN</td>\n",
       "      <td>Bibliotecas Populares</td>\n",
       "      <td>NaN</td>\n",
       "      <td>Ciudad Autónoma de Buenos Aires</td>\n",
       "      <td>Ciudad Autonoma de Buenos Aires</td>\n",
       "      <td>Ciudad de Buenos Aires</td>\n",
       "      <td>Biblioteca Popular Helena Larroque de Roffo</td>\n",
       "      <td>Simbrón 3058</td>\n",
       "      <td>NaN</td>\n",
       "      <td>C1417EUD</td>\n",
       "      <td>11</td>\n",
       "      <td>45010078</td>\n",
       "      <td>asociacionroffo@yahoo.com.ar</td>\n",
       "      <td>NaN</td>\n",
       "      <td>NaN</td>\n",
       "      <td>-34.598461</td>\n",
       "      <td>-58.494690</td>\n",
       "      <td>Localización precisa</td>\n",
       "      <td>CONABIP</td>\n",
       "      <td>Comunitaria</td>\n",
       "      <td>1916.0</td>\n",
       "      <td>2018</td>\n",
       "    </tr>\n",
       "    <tr>\n",
       "      <th>2</th>\n",
       "      <td>2000010</td>\n",
       "      <td>2</td>\n",
       "      <td>2000</td>\n",
       "      <td>NaN</td>\n",
       "      <td>Bibliotecas Populares</td>\n",
       "      <td>NaN</td>\n",
       "      <td>Ciudad Autónoma de Buenos Aires</td>\n",
       "      <td>Ciudad Autonoma de Buenos Aires</td>\n",
       "      <td>Ciudad de Buenos Aires</td>\n",
       "      <td>Biblioteca Popular 12 de Octubre</td>\n",
       "      <td>Calle Arengreen 1187</td>\n",
       "      <td>NaN</td>\n",
       "      <td>C1405CYM</td>\n",
       "      <td>11</td>\n",
       "      <td>49880766</td>\n",
       "      <td>popular12deoctubre@hotmail.com</td>\n",
       "      <td>NaN</td>\n",
       "      <td>NaN</td>\n",
       "      <td>-34.613235</td>\n",
       "      <td>-58.448997</td>\n",
       "      <td>Localización precisa</td>\n",
       "      <td>CONABIP</td>\n",
       "      <td>Comunitaria</td>\n",
       "      <td>1910.0</td>\n",
       "      <td>2018</td>\n",
       "    </tr>\n",
       "    <tr>\n",
       "      <th>3</th>\n",
       "      <td>2000010</td>\n",
       "      <td>2</td>\n",
       "      <td>2000</td>\n",
       "      <td>NaN</td>\n",
       "      <td>Bibliotecas Populares</td>\n",
       "      <td>NaN</td>\n",
       "      <td>Ciudad Autónoma de Buenos Aires</td>\n",
       "      <td>Ciudad Autonoma de Buenos Aires</td>\n",
       "      <td>Ciudad de Buenos Aires</td>\n",
       "      <td>Biblioteca Popular Villa Pueyrredón Norte</td>\n",
       "      <td>Cockrane 2334</td>\n",
       "      <td>NaN</td>\n",
       "      <td>C1419FMD</td>\n",
       "      <td>11</td>\n",
       "      <td>45729107</td>\n",
       "      <td>bibliotecapueyrredon@hotmail.com</td>\n",
       "      <td>NaN</td>\n",
       "      <td>NaN</td>\n",
       "      <td>-34.575890</td>\n",
       "      <td>-58.501591</td>\n",
       "      <td>Localización precisa</td>\n",
       "      <td>CONABIP</td>\n",
       "      <td>Comunitaria</td>\n",
       "      <td>1916.0</td>\n",
       "      <td>2018</td>\n",
       "    </tr>\n",
       "    <tr>\n",
       "      <th>4</th>\n",
       "      <td>2000010</td>\n",
       "      <td>2</td>\n",
       "      <td>2000</td>\n",
       "      <td>NaN</td>\n",
       "      <td>Bibliotecas Populares</td>\n",
       "      <td>NaN</td>\n",
       "      <td>Ciudad Autónoma de Buenos Aires</td>\n",
       "      <td>Ciudad Autonoma de Buenos Aires</td>\n",
       "      <td>Ciudad de Buenos Aires</td>\n",
       "      <td>Biblioteca Popular Alberdi</td>\n",
       "      <td>Acevedo 666</td>\n",
       "      <td>NaN</td>\n",
       "      <td>C1414DJN</td>\n",
       "      <td>11</td>\n",
       "      <td>47753325</td>\n",
       "      <td>bibliotecapopularalberdi@yahoo.com.ar</td>\n",
       "      <td>NaN</td>\n",
       "      <td>NaN</td>\n",
       "      <td>-34.596157</td>\n",
       "      <td>-58.437668</td>\n",
       "      <td>Localización precisa</td>\n",
       "      <td>CONABIP</td>\n",
       "      <td>Comunitaria</td>\n",
       "      <td>1910.0</td>\n",
       "      <td>2018</td>\n",
       "    </tr>\n",
       "  </tbody>\n",
       "</table>\n",
       "</div>"
      ],
      "text/plain": [
       "    Cod_Loc  IdProvincia  IdDepartamento  Observacion              Categoría  \\\n",
       "0  70049060           70           70049          NaN  Bibliotecas Populares   \n",
       "1   2000010            2            2000          NaN  Bibliotecas Populares   \n",
       "2   2000010            2            2000          NaN  Bibliotecas Populares   \n",
       "3   2000010            2            2000          NaN  Bibliotecas Populares   \n",
       "4   2000010            2            2000          NaN  Bibliotecas Populares   \n",
       "\n",
       "   Subcategoria                        Provincia  \\\n",
       "0           NaN                         San Juan   \n",
       "1           NaN  Ciudad Autónoma de Buenos Aires   \n",
       "2           NaN  Ciudad Autónoma de Buenos Aires   \n",
       "3           NaN  Ciudad Autónoma de Buenos Aires   \n",
       "4           NaN  Ciudad Autónoma de Buenos Aires   \n",
       "\n",
       "                      Departamento               Localidad  \\\n",
       "0                          Iglesia                   Rodeo   \n",
       "1  Ciudad Autonoma de Buenos Aires  Ciudad de Buenos Aires   \n",
       "2  Ciudad Autonoma de Buenos Aires  Ciudad de Buenos Aires   \n",
       "3  Ciudad Autonoma de Buenos Aires  Ciudad de Buenos Aires   \n",
       "4  Ciudad Autonoma de Buenos Aires  Ciudad de Buenos Aires   \n",
       "\n",
       "                                        Nombre             Domicilio  Piso  \\\n",
       "0         Biblioteca Popular Juan P. Garramuno         Santo Domingo   NaN   \n",
       "1  Biblioteca Popular Helena Larroque de Roffo          Simbrón 3058   NaN   \n",
       "2             Biblioteca Popular 12 de Octubre  Calle Arengreen 1187   NaN   \n",
       "3    Biblioteca Popular Villa Pueyrredón Norte         Cockrane 2334   NaN   \n",
       "4                   Biblioteca Popular Alberdi           Acevedo 666   NaN   \n",
       "\n",
       "         CP Cod_tel  Teléfono                                   Mail  Web  \\\n",
       "0      5465     s/d       s/d                                    s/d  NaN   \n",
       "1  C1417EUD      11  45010078           asociacionroffo@yahoo.com.ar  NaN   \n",
       "2  C1405CYM      11  49880766         popular12deoctubre@hotmail.com  NaN   \n",
       "3  C1419FMD      11  45729107       bibliotecapueyrredon@hotmail.com  NaN   \n",
       "4  C1414DJN      11  47753325  bibliotecapopularalberdi@yahoo.com.ar  NaN   \n",
       "\n",
       "   Información adicional    Latitud   Longitud   TipoLatitudLongitud   Fuente  \\\n",
       "0                    NaN -30.209250 -69.130117  Localización precisa  CONABIP   \n",
       "1                    NaN -34.598461 -58.494690  Localización precisa  CONABIP   \n",
       "2                    NaN -34.613235 -58.448997  Localización precisa  CONABIP   \n",
       "3                    NaN -34.575890 -58.501591  Localización precisa  CONABIP   \n",
       "4                    NaN -34.596157 -58.437668  Localización precisa  CONABIP   \n",
       "\n",
       "  Tipo_gestion  año_inicio  Año_actualizacion  \n",
       "0  Comunitaria      1930.0               2018  \n",
       "1  Comunitaria      1916.0               2018  \n",
       "2  Comunitaria      1910.0               2018  \n",
       "3  Comunitaria      1916.0               2018  \n",
       "4  Comunitaria      1910.0               2018  "
      ]
     },
     "execution_count": 42,
     "metadata": {},
     "output_type": "execute_result"
    }
   ],
   "source": [
    "pd.options.display.max_columns = None\n",
    "df_cines.head()"
   ]
  },
  {
   "cell_type": "code",
   "execution_count": null,
   "id": "9560bce0-3caa-4f03-8b69-2e6b7edf9ac0",
   "metadata": {},
   "outputs": [],
   "source": []
  },
  {
   "cell_type": "code",
   "execution_count": null,
   "id": "22ee3b18-5bcf-4dbb-88a9-b40a1774a296",
   "metadata": {},
   "outputs": [],
   "source": []
  },
  {
   "cell_type": "code",
   "execution_count": null,
   "id": "1c8db06d-64cd-404a-8d41-3f66b95ecf65",
   "metadata": {},
   "outputs": [],
   "source": []
  },
  {
   "cell_type": "code",
   "execution_count": null,
   "id": "74b7b682-6946-4ff0-999b-18abefd85e7a",
   "metadata": {},
   "outputs": [],
   "source": []
  },
  {
   "cell_type": "code",
   "execution_count": null,
   "id": "fd57e6b1-62e7-43d4-96a3-e893824bb75c",
   "metadata": {},
   "outputs": [],
   "source": []
  }
 ],
 "metadata": {
  "kernelspec": {
   "display_name": "Python 3 (ipykernel)",
   "language": "python",
   "name": "python3"
  },
  "language_info": {
   "codemirror_mode": {
    "name": "ipython",
    "version": 3
   },
   "file_extension": ".py",
   "mimetype": "text/x-python",
   "name": "python",
   "nbconvert_exporter": "python",
   "pygments_lexer": "ipython3",
   "version": "3.9.7"
  }
 },
 "nbformat": 4,
 "nbformat_minor": 5
}
